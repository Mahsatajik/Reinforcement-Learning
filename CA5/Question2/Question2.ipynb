{
  "nbformat": 4,
  "nbformat_minor": 0,
  "metadata": {
    "colab": {
      "name": "Question2_m.ipynb",
      "provenance": [],
      "collapsed_sections": []
    },
    "kernelspec": {
      "name": "python3",
      "display_name": "Python 3"
    },
    "language_info": {
      "name": "python"
    },
    "accelerator": "GPU"
  },
  "cells": [
    {
      "cell_type": "code",
      "source": [
        "!nvidia-smi"
      ],
      "metadata": {
        "colab": {
          "base_uri": "https://localhost:8080/"
        },
        "id": "YUJXVeagokRl",
        "outputId": "77eb98a4-badf-4038-ddd8-f5f3ee0d653d"
      },
      "execution_count": 1,
      "outputs": [
        {
          "output_type": "stream",
          "name": "stdout",
          "text": [
            "Sun Jan 30 10:53:51 2022       \n",
            "+-----------------------------------------------------------------------------+\n",
            "| NVIDIA-SMI 495.46       Driver Version: 460.32.03    CUDA Version: 11.2     |\n",
            "|-------------------------------+----------------------+----------------------+\n",
            "| GPU  Name        Persistence-M| Bus-Id        Disp.A | Volatile Uncorr. ECC |\n",
            "| Fan  Temp  Perf  Pwr:Usage/Cap|         Memory-Usage | GPU-Util  Compute M. |\n",
            "|                               |                      |               MIG M. |\n",
            "|===============================+======================+======================|\n",
            "|   0  Tesla T4            Off  | 00000000:00:04.0 Off |                    0 |\n",
            "| N/A   65C    P8    11W /  70W |      0MiB / 15109MiB |      0%      Default |\n",
            "|                               |                      |                  N/A |\n",
            "+-------------------------------+----------------------+----------------------+\n",
            "                                                                               \n",
            "+-----------------------------------------------------------------------------+\n",
            "| Processes:                                                                  |\n",
            "|  GPU   GI   CI        PID   Type   Process name                  GPU Memory |\n",
            "|        ID   ID                                                   Usage      |\n",
            "|=============================================================================|\n",
            "|  No running processes found                                                 |\n",
            "+-----------------------------------------------------------------------------+\n"
          ]
        }
      ]
    },
    {
      "cell_type": "code",
      "source": [
        "!pip install plotting"
      ],
      "metadata": {
        "colab": {
          "base_uri": "https://localhost:8080/"
        },
        "id": "3AfUi-sdNbzC",
        "outputId": "6b3b1f6f-60e2-4e8e-c086-7fea8f065554"
      },
      "execution_count": 2,
      "outputs": [
        {
          "output_type": "stream",
          "name": "stdout",
          "text": [
            "Collecting plotting\n",
            "  Downloading plotting-0.0.7-py3-none-any.whl (13 kB)\n",
            "Requirement already satisfied: seaborn in /usr/local/lib/python3.7/dist-packages (from plotting) (0.11.2)\n",
            "Requirement already satisfied: matplotlib in /usr/local/lib/python3.7/dist-packages (from plotting) (3.2.2)\n",
            "Requirement already satisfied: pandas in /usr/local/lib/python3.7/dist-packages (from plotting) (1.1.5)\n",
            "Requirement already satisfied: numpy>=1.11 in /usr/local/lib/python3.7/dist-packages (from matplotlib->plotting) (1.19.5)\n",
            "Requirement already satisfied: kiwisolver>=1.0.1 in /usr/local/lib/python3.7/dist-packages (from matplotlib->plotting) (1.3.2)\n",
            "Requirement already satisfied: python-dateutil>=2.1 in /usr/local/lib/python3.7/dist-packages (from matplotlib->plotting) (2.8.2)\n",
            "Requirement already satisfied: cycler>=0.10 in /usr/local/lib/python3.7/dist-packages (from matplotlib->plotting) (0.11.0)\n",
            "Requirement already satisfied: pyparsing!=2.0.4,!=2.1.2,!=2.1.6,>=2.0.1 in /usr/local/lib/python3.7/dist-packages (from matplotlib->plotting) (3.0.7)\n",
            "Requirement already satisfied: six>=1.5 in /usr/local/lib/python3.7/dist-packages (from python-dateutil>=2.1->matplotlib->plotting) (1.15.0)\n",
            "Requirement already satisfied: pytz>=2017.2 in /usr/local/lib/python3.7/dist-packages (from pandas->plotting) (2018.9)\n",
            "Requirement already satisfied: scipy>=1.0 in /usr/local/lib/python3.7/dist-packages (from seaborn->plotting) (1.4.1)\n",
            "Installing collected packages: plotting\n",
            "Successfully installed plotting-0.0.7\n"
          ]
        }
      ]
    },
    {
      "cell_type": "code",
      "source": [
        "import gym\n",
        "import random\n",
        "import numpy as np\n",
        "import torch\n",
        "import torch.nn as nn\n",
        "import torch.nn.functional as functional\n",
        "import torch.optim as optimizer\n",
        "import matplotlib.pyplot as plt\n",
        "import base64, io, glob\n",
        "from collections import deque, namedtuple\n",
        "import plotting\n",
        "import matplotlib \n",
        "import matplotlib.style\n",
        "matplotlib.style.use('ggplot')"
      ],
      "metadata": {
        "id": "vzzOBOH0kNQm"
      },
      "execution_count": 3,
      "outputs": []
    },
    {
      "cell_type": "code",
      "source": [
        "!pip3 install box2d-py\n",
        "!pip3 install gym[Box_2D]\n",
        "!pip3 install box2d-py\n",
        "!pip3 install box2d-py==2.3.8\n",
        "!pip install BOX2D\n",
        "!pip install box2d\n",
        "!pip install gym[BOX_2D]"
      ],
      "metadata": {
        "colab": {
          "base_uri": "https://localhost:8080/"
        },
        "id": "idx9VtyjB-wx",
        "outputId": "305a15ce-33bf-4541-eb96-f73e6b086668"
      },
      "execution_count": 4,
      "outputs": [
        {
          "output_type": "stream",
          "name": "stdout",
          "text": [
            "Collecting box2d-py\n",
            "  Downloading box2d_py-2.3.8-cp37-cp37m-manylinux1_x86_64.whl (448 kB)\n",
            "\u001b[?25l\r\u001b[K     |▊                               | 10 kB 27.4 MB/s eta 0:00:01\r\u001b[K     |█▌                              | 20 kB 26.4 MB/s eta 0:00:01\r\u001b[K     |██▏                             | 30 kB 29.2 MB/s eta 0:00:01\r\u001b[K     |███                             | 40 kB 31.0 MB/s eta 0:00:01\r\u001b[K     |███▋                            | 51 kB 31.8 MB/s eta 0:00:01\r\u001b[K     |████▍                           | 61 kB 32.5 MB/s eta 0:00:01\r\u001b[K     |█████▏                          | 71 kB 33.1 MB/s eta 0:00:01\r\u001b[K     |█████▉                          | 81 kB 33.1 MB/s eta 0:00:01\r\u001b[K     |██████▋                         | 92 kB 29.8 MB/s eta 0:00:01\r\u001b[K     |███████▎                        | 102 kB 15.8 MB/s eta 0:00:01\r\u001b[K     |████████                        | 112 kB 15.8 MB/s eta 0:00:01\r\u001b[K     |████████▊                       | 122 kB 15.8 MB/s eta 0:00:01\r\u001b[K     |█████████▌                      | 133 kB 15.8 MB/s eta 0:00:01\r\u001b[K     |██████████▎                     | 143 kB 15.8 MB/s eta 0:00:01\r\u001b[K     |███████████                     | 153 kB 15.8 MB/s eta 0:00:01\r\u001b[K     |███████████▊                    | 163 kB 15.8 MB/s eta 0:00:01\r\u001b[K     |████████████▍                   | 174 kB 15.8 MB/s eta 0:00:01\r\u001b[K     |█████████████▏                  | 184 kB 15.8 MB/s eta 0:00:01\r\u001b[K     |█████████████▉                  | 194 kB 15.8 MB/s eta 0:00:01\r\u001b[K     |██████████████▋                 | 204 kB 15.8 MB/s eta 0:00:01\r\u001b[K     |███████████████▍                | 215 kB 15.8 MB/s eta 0:00:01\r\u001b[K     |████████████████                | 225 kB 15.8 MB/s eta 0:00:01\r\u001b[K     |████████████████▉               | 235 kB 15.8 MB/s eta 0:00:01\r\u001b[K     |█████████████████▌              | 245 kB 15.8 MB/s eta 0:00:01\r\u001b[K     |██████████████████▎             | 256 kB 15.8 MB/s eta 0:00:01\r\u001b[K     |███████████████████             | 266 kB 15.8 MB/s eta 0:00:01\r\u001b[K     |███████████████████▊            | 276 kB 15.8 MB/s eta 0:00:01\r\u001b[K     |████████████████████▌           | 286 kB 15.8 MB/s eta 0:00:01\r\u001b[K     |█████████████████████▏          | 296 kB 15.8 MB/s eta 0:00:01\r\u001b[K     |██████████████████████          | 307 kB 15.8 MB/s eta 0:00:01\r\u001b[K     |██████████████████████▋         | 317 kB 15.8 MB/s eta 0:00:01\r\u001b[K     |███████████████████████▍        | 327 kB 15.8 MB/s eta 0:00:01\r\u001b[K     |████████████████████████        | 337 kB 15.8 MB/s eta 0:00:01\r\u001b[K     |████████████████████████▉       | 348 kB 15.8 MB/s eta 0:00:01\r\u001b[K     |█████████████████████████▋      | 358 kB 15.8 MB/s eta 0:00:01\r\u001b[K     |██████████████████████████▎     | 368 kB 15.8 MB/s eta 0:00:01\r\u001b[K     |███████████████████████████     | 378 kB 15.8 MB/s eta 0:00:01\r\u001b[K     |███████████████████████████▊    | 389 kB 15.8 MB/s eta 0:00:01\r\u001b[K     |████████████████████████████▌   | 399 kB 15.8 MB/s eta 0:00:01\r\u001b[K     |█████████████████████████████▏  | 409 kB 15.8 MB/s eta 0:00:01\r\u001b[K     |██████████████████████████████  | 419 kB 15.8 MB/s eta 0:00:01\r\u001b[K     |██████████████████████████████▊ | 430 kB 15.8 MB/s eta 0:00:01\r\u001b[K     |███████████████████████████████▍| 440 kB 15.8 MB/s eta 0:00:01\r\u001b[K     |████████████████████████████████| 448 kB 15.8 MB/s \n",
            "\u001b[?25hInstalling collected packages: box2d-py\n",
            "Successfully installed box2d-py-2.3.8\n",
            "Requirement already satisfied: gym[Box_2D] in /usr/local/lib/python3.7/dist-packages (0.17.3)\n",
            "\u001b[33mWARNING: gym 0.17.3 does not provide the extra 'box_2d'\u001b[0m\n",
            "Requirement already satisfied: pyglet<=1.5.0,>=1.4.0 in /usr/local/lib/python3.7/dist-packages (from gym[Box_2D]) (1.5.0)\n",
            "Requirement already satisfied: cloudpickle<1.7.0,>=1.2.0 in /usr/local/lib/python3.7/dist-packages (from gym[Box_2D]) (1.3.0)\n",
            "Requirement already satisfied: numpy>=1.10.4 in /usr/local/lib/python3.7/dist-packages (from gym[Box_2D]) (1.19.5)\n",
            "Requirement already satisfied: scipy in /usr/local/lib/python3.7/dist-packages (from gym[Box_2D]) (1.4.1)\n",
            "Requirement already satisfied: future in /usr/local/lib/python3.7/dist-packages (from pyglet<=1.5.0,>=1.4.0->gym[Box_2D]) (0.16.0)\n",
            "Requirement already satisfied: box2d-py in /usr/local/lib/python3.7/dist-packages (2.3.8)\n",
            "Requirement already satisfied: box2d-py==2.3.8 in /usr/local/lib/python3.7/dist-packages (2.3.8)\n",
            "Collecting BOX2D\n",
            "  Downloading Box2D-2.3.10-cp37-cp37m-manylinux1_x86_64.whl (1.3 MB)\n",
            "\u001b[K     |████████████████████████████████| 1.3 MB 11.2 MB/s \n",
            "\u001b[?25hInstalling collected packages: BOX2D\n",
            "Successfully installed BOX2D-2.3.10\n",
            "Requirement already satisfied: box2d in /usr/local/lib/python3.7/dist-packages (2.3.10)\n",
            "Requirement already satisfied: gym[BOX_2D] in /usr/local/lib/python3.7/dist-packages (0.17.3)\n",
            "\u001b[33mWARNING: gym 0.17.3 does not provide the extra 'box_2d'\u001b[0m\n",
            "Requirement already satisfied: numpy>=1.10.4 in /usr/local/lib/python3.7/dist-packages (from gym[BOX_2D]) (1.19.5)\n",
            "Requirement already satisfied: cloudpickle<1.7.0,>=1.2.0 in /usr/local/lib/python3.7/dist-packages (from gym[BOX_2D]) (1.3.0)\n",
            "Requirement already satisfied: scipy in /usr/local/lib/python3.7/dist-packages (from gym[BOX_2D]) (1.4.1)\n",
            "Requirement already satisfied: pyglet<=1.5.0,>=1.4.0 in /usr/local/lib/python3.7/dist-packages (from gym[BOX_2D]) (1.5.0)\n",
            "Requirement already satisfied: future in /usr/local/lib/python3.7/dist-packages (from pyglet<=1.5.0,>=1.4.0->gym[BOX_2D]) (0.16.0)\n"
          ]
        }
      ]
    },
    {
      "cell_type": "code",
      "source": [
        "from gym.envs.box2d.lunar_lander import LunarLander\n",
        "env = gym.make(\"LunarLander-v2\")\n",
        "env.seed(0)"
      ],
      "metadata": {
        "id": "1SAw6unfmK8O",
        "colab": {
          "base_uri": "https://localhost:8080/"
        },
        "outputId": "9c9b0cff-3adb-4aae-dda8-65a0d086d1ec"
      },
      "execution_count": 5,
      "outputs": [
        {
          "output_type": "execute_result",
          "data": {
            "text/plain": [
              "[0]"
            ]
          },
          "metadata": {},
          "execution_count": 5
        }
      ]
    },
    {
      "cell_type": "code",
      "source": [
        "device = torch.device(\"cuda:0\" if torch.cuda.is_available() else \"cpu\")"
      ],
      "metadata": {
        "id": "VBfEVzPIEwCX"
      },
      "execution_count": 6,
      "outputs": []
    },
    {
      "cell_type": "markdown",
      "source": [
        "##BUFFER"
      ],
      "metadata": {
        "id": "TDVJ08urpVSq"
      }
    },
    {
      "cell_type": "code",
      "source": [
        "class ReplayExperienceBuffer():\n",
        "    def __init__(self, n_action, buffer_size, seed):\n",
        "        self.n_action = n_action\n",
        "        self.storage = deque(maxlen=buffer_size)  \n",
        "        self.batch_size = 32\n",
        "        self.experience = namedtuple(\"Experience\", field_names=[\"state\", \"action\", \"reward\", \"next_state\", \"done\"])\n",
        "        self.seed = random.seed(seed)\n",
        "    \n",
        "    def add_experience(self, state, action, reward, next_state, done):\n",
        "        e = self.experience(state, action, reward, next_state, done)\n",
        "        self.storage.append(e)\n",
        "    \n",
        "    def sample(self):\n",
        "\n",
        "        experiences = random.sample(self.storage, k=self.batch_size)\n",
        "        states = torch.from_numpy(np.vstack([e.state for e in experiences if e is not None])).float().to(device)\n",
        "        actions = torch.from_numpy(np.vstack([e.action for e in experiences if e is not None])).long().to(device)\n",
        "        rewards = torch.from_numpy(np.vstack([e.reward for e in experiences if e is not None])).float().to(device)\n",
        "        next_states = torch.from_numpy(np.vstack([e.next_state for e in experiences if e is not None])).float().to(device)\n",
        "        dones = torch.from_numpy(np.vstack([e.done for e in experiences if e is not None]).astype(np.uint8)).float().to(device)\n",
        "  \n",
        "        return (states, actions, rewards, next_states, dones)\n",
        "    \n",
        "    def __len__(self):\n",
        "        return len(self.storage)"
      ],
      "metadata": {
        "id": "M9cac7oT02_l"
      },
      "execution_count": 7,
      "outputs": []
    },
    {
      "cell_type": "markdown",
      "source": [
        "##َAGENT"
      ],
      "metadata": {
        "id": "QdTX6Gy8VAnW"
      }
    },
    {
      "cell_type": "code",
      "execution_count": 16,
      "metadata": {
        "id": "ar4G9N4H0YHp"
      },
      "outputs": [],
      "source": [
        "class Agent():\n",
        "\n",
        "    def __init__(self, state_size, n_action, seed):\n",
        "        self.state_size = state_size\n",
        "        self.n_action = n_action\n",
        "        self.seed = random.seed(seed)\n",
        "\n",
        "        self.qnetwork_local = DeepNetwork(state_size, n_action, seed).to(device)\n",
        "        self.qnetwork_target = DeepNetwork(state_size, n_action, seed).to(device)\n",
        "        self.optimizer = optimizer.Adam(self.qnetwork_local.parameters(), lr=5e-4)\n",
        "\n",
        "        self.buffer = ReplayExperienceBuffer(n_action, int(1e2), seed)\n",
        "        \n",
        "        self.time_step = 0\n",
        "    \n",
        "    def step(self, state, action, reward, next_state, done):\n",
        "        self.buffer.add_experience(state, action, reward, next_state, done)\n",
        "        self.time_step = (self.time_step + 1) % 4\n",
        "        if self.time_step == 0:\n",
        "            if len(self.buffer) > 32:\n",
        "                experiences = self.buffer.sample()\n",
        "                self.learn(experiences, 0.99)\n",
        "\n",
        "    def choose_action(self, state, epsilon=0):\n",
        "\n",
        "        state = torch.from_numpy(state).float().unsqueeze(0).to(device)\n",
        "        self.qnetwork_local.eval()\n",
        "        with torch.no_grad():\n",
        "            action_values = self.qnetwork_local(state)\n",
        "        self.qnetwork_local.train()\n",
        "\n",
        "        if random.random() > epsilon:\n",
        "            return np.argmax(action_values.cpu().data.numpy())\n",
        "        else:\n",
        "            return random.choice(np.arange(self.n_action))\n",
        "\n",
        "    def learn(self, experiences, gamma):\n",
        "        states, actions, rewards, next_states, dones = experiences\n",
        "\n",
        "        q_targets_next = self.qnetwork_target(next_states).detach().max(1)[0].unsqueeze(1)\n",
        "        q_targets = rewards + gamma * q_targets_next * (1 - dones)\n",
        "        q_expected = self.qnetwork_local(states).gather(1, actions)\n",
        "        \n",
        "        loss = functional.mse_loss(q_expected, q_targets)\n",
        "        self.optimizer.zero_grad()\n",
        "        loss.backward()\n",
        "        self.optimizer.step()\n",
        "\n",
        "        self.update_target_network(self.qnetwork_local, self.qnetwork_target, 1e-3)                     \n",
        "\n",
        "    def update_target_network(self, local_model, target_model, t):\n",
        "      \n",
        "        for target, local in zip(target_model.parameters(), local_model.parameters()):\n",
        "            target.data.copy_(t*local.data + (1.0-t)*target.data)\n"
      ]
    },
    {
      "cell_type": "markdown",
      "source": [
        "##DEEP"
      ],
      "metadata": {
        "id": "-HHfyoKmVFKq"
      }
    },
    {
      "cell_type": "code",
      "source": [
        "class DeepNetwork(nn.Module):\n",
        "  \n",
        "    def __init__(self, n_state, n_action, seed):\n",
        "        \n",
        "        super(DeepNetwork, self).__init__()\n",
        "        self.seed = torch.manual_seed(seed)\n",
        "        self.l1 = nn.Linear(n_state, 32)\n",
        "        self.l2 = nn.Linear(32, 32)\n",
        "        self.l3 = nn.Linear(32, n_action)\n",
        "        \n",
        "    def forward(self, state):\n",
        "        x = self.l1(state)\n",
        "        x = functional.relu(x)\n",
        "        x = self.l2(x)\n",
        "        x = functional.relu(x)\n",
        "        return self.l3(x)\n"
      ],
      "metadata": {
        "id": "Uwak5u5W06du"
      },
      "execution_count": 17,
      "outputs": []
    },
    {
      "cell_type": "markdown",
      "source": [
        "##DQN"
      ],
      "metadata": {
        "id": "37uyIninVITs"
      }
    },
    {
      "cell_type": "code",
      "source": [
        "def dqn():\n",
        "\n",
        "    REWARDS = []                        \n",
        "    sliding_window = deque(maxlen=100)  \n",
        "    epsilon = 1                    \n",
        "    for iter in range(1, 1001):\n",
        "        state = env.reset()\n",
        "        rew = 0\n",
        "        for t in range(1000):\n",
        "            action = agent.choose_action(state, epsilon)\n",
        "            next_state, reward, done, _ = env.step(action)\n",
        "            agent.step(state, action, reward, next_state, done)\n",
        "            state = next_state\n",
        "            rew += reward\n",
        "            if done:\n",
        "                break \n",
        "        sliding_window.append(rew)       \n",
        "        REWARDS.append(rew)              \n",
        "        epsilon = max(0.01, 0.995*epsilon) \n",
        "        if iter % 100 == 0:\n",
        "            print('episode', iter, 'Average Reward:', np.mean(sliding_window))\n",
        "\n",
        "    return REWARDS, sliding_window\n",
        "\n"
      ],
      "metadata": {
        "id": "bMtEEsadmwmS"
      },
      "execution_count": 18,
      "outputs": []
    },
    {
      "cell_type": "markdown",
      "source": [
        "##PLOT"
      ],
      "metadata": {
        "id": "ojgJayigpZ2p"
      }
    },
    {
      "cell_type": "code",
      "source": [
        "agent = Agent(state_size=8, n_action=4, seed=0)\n",
        "REWARDS, avg_reward = dqn()\n",
        "fig = plt.figure()\n",
        "plt.plot(np.arange(len(REWARDS)), REWARDS)\n",
        "plt.ylabel('Reward')\n",
        "plt.xlabel('Episode')\n",
        "plt.show()"
      ],
      "metadata": {
        "id": "EuWxVn99mxIL",
        "colab": {
          "base_uri": "https://localhost:8080/",
          "height": 469
        },
        "outputId": "ee7fb09d-83cb-4f41-cfa1-04bfbfd7fd90"
      },
      "execution_count": 19,
      "outputs": [
        {
          "output_type": "stream",
          "name": "stdout",
          "text": [
            "episode 100 Average Reward: -194.20646742901314\n",
            "episode 200 Average Reward: -179.71042967377645\n",
            "episode 300 Average Reward: -146.43186793551385\n",
            "episode 400 Average Reward: -76.79291713148338\n",
            "episode 500 Average Reward: 51.16365888972134\n",
            "episode 600 Average Reward: -64.03923712671867\n",
            "episode 700 Average Reward: -82.70185289505427\n",
            "episode 800 Average Reward: -106.17165249219103\n",
            "episode 900 Average Reward: -124.37077058209371\n",
            "episode 1000 Average Reward: -113.46101317506094\n"
          ]
        },
        {
          "output_type": "display_data",
          "data": {
            "image/png": "[encoded data removed]",
            "text/plain": [
              "<Figure size 432x288 with 1 Axes>"
            ]
          },
          "metadata": {}
        }
      ]
    }
  ]
}