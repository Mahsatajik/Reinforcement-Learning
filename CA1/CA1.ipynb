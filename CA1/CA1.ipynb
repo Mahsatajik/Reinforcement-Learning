{
  "nbformat": 4,
  "nbformat_minor": 0,
  "metadata": {
    "kernelspec": {
      "name": "python3",
      "display_name": "Python 3.7.3 64-bit ('base': conda)"
    },
    "language_info": {
      "codemirror_mode": {
        "name": "ipython",
        "version": 3
      },
      "file_extension": ".py",
      "mimetype": "text/x-python",
      "name": "python",
      "nbconvert_exporter": "python",
      "pygments_lexer": "ipython3",
      "version": "3.7.3"
    },
    "toc": {
      "base_numbering": 1,
      "nav_menu": {},
      "number_sections": true,
      "sideBar": true,
      "skip_h1_title": false,
      "title_cell": "Table of Contents",
      "title_sidebar": "Contents",
      "toc_cell": false,
      "toc_position": {},
      "toc_section_display": true,
      "toc_window_display": false
    },
    "varInspector": {
      "cols": {
        "lenName": 16,
        "lenType": 16,
        "lenVar": 40
      },
      "kernels_config": {
        "python": {
          "delete_cmd_postfix": "",
          "delete_cmd_prefix": "del ",
          "library": "var_list.py",
          "varRefreshCmd": "print(var_dic_list())"
        },
        "r": {
          "delete_cmd_postfix": ") ",
          "delete_cmd_prefix": "rm(",
          "library": "var_list.r",
          "varRefreshCmd": "cat(var_dic_list()) "
        }
      },
      "types_to_exclude": [
        "module",
        "function",
        "builtin_function_or_method",
        "instance",
        "_Feature"
      ],
      "window_display": false
    },
    "interpreter": {
      "hash": "691552c8998edcb2b21b363cf179e098f54bc66c9cff9807dcb9814d58a77e03"
    },
    "colab": {
      "name": "HW1RL.ipynb",
      "provenance": [],
      "collapsed_sections": []
    }
  },
  "cells": [
    {
      "cell_type": "markdown",
      "metadata": {
        "id": "aTLiwWfjckZP"
      },
      "source": [
        "# Homework #1 - Basic Statistics\n",
        "\n",
        "**In this assignment, you are going to solve some basic statistical problems like estimating parameters of a distribution. In each problem, you are instructed to write little chunks of Python code. Additionally, there are few questions that you have to answer based on your observations and your knowledge of statistics.**\n",
        "\n",
        "**Ultimately, you are expected to submit your solutions as a single jupyter notebook, *not a python script or anything else.***\n",
        "\n",
        "**In the case of any questions, post it on the Q&A forum.**\n",
        "\n",
        "Good Luck"
      ]
    },
    {
      "cell_type": "code",
      "metadata": {
        "colab": {
          "base_uri": "https://localhost:8080/"
        },
        "id": "QlPi-Er9dFLu",
        "outputId": "e50f0529-d036-45fc-e927-d1f0461141f9"
      },
      "source": [
        "!pip install dists"
      ],
      "execution_count": 1,
      "outputs": [
        {
          "output_type": "stream",
          "name": "stdout",
          "text": [
            "Collecting dists\n",
            "  Downloading dists-0.2.tar.gz (3.2 kB)\n",
            "Building wheels for collected packages: dists\n",
            "  Building wheel for dists (setup.py) ... \u001b[?25l\u001b[?25hdone\n",
            "  Created wheel for dists: filename=dists-0.2-py3-none-any.whl size=4705 sha256=0b755eec7c34fcb1a4165465f03c99476626642170c38a6bd41486d755a7e1f3\n",
            "  Stored in directory: /root/.cache/pip/wheels/01/2e/12/3c173eabb69e10189f3fe3d6fbe2a863557ae0f03fd2200ebd\n",
            "Successfully built dists\n",
            "Installing collected packages: dists\n",
            "Successfully installed dists-0.2\n"
          ]
        }
      ]
    },
    {
      "cell_type": "code",
      "metadata": {
        "id": "fTOpwD2JckZi"
      },
      "source": [
        "import numpy as np\n",
        "import matplotlib.pyplot as plt\n",
        "import math\n",
        "from dists import *\n"
      ],
      "execution_count": 2,
      "outputs": []
    },
    {
      "cell_type": "markdown",
      "metadata": {
        "id": "bqyXnwAJckZu"
      },
      "source": [
        "# Problem #1 - Parameter Estimation\n",
        "\n",
        "**A) By calling `my_kappa(n_sample, student_id)`, draw a sample of size 100 from `my_kappa` distribution.**"
      ]
    },
    {
      "cell_type": "code",
      "metadata": {
        "id": "aPeDI5vX1eLZ"
      },
      "source": [
        "def my_kappa(n_sample, student_id):\n",
        "    digits = np.array([int(d) for d in str(student_id)])\n",
        "    c1 = np.random.normal(loc=0, scale=digits[1]+1.0, size=n_sample)\n",
        "    c2 = np.random.laplace(loc=digits[2]+5, scale=digits[3]*0.3, size=n_sample)\n",
        "    c3 = np.random.laplace(loc=-digits[2]-5, scale=digits[5]*0.3, size=n_sample)\n",
        "    res = []\n",
        "    for i in range(n_sample):\n",
        "        res.append(\n",
        "            np.random.choice([c1[i], c2[i], c3[i]])\n",
        "        )\n",
        "\n",
        "    return np.array(res)"
      ],
      "execution_count": 3,
      "outputs": []
    },
    {
      "cell_type": "code",
      "metadata": {
        "colab": {
          "base_uri": "https://localhost:8080/",
          "height": 361
        },
        "id": "VpNJ3C3Gfkio",
        "outputId": "708f6aa4-6046-4a0c-9cd2-0605c948b81b"
      },
      "source": [
        "n_sample = 100\n",
        "student_id = 810198126\n",
        "sample = my_kappa(n_sample,student_id)\n",
        "plt.hist(sample)"
      ],
      "execution_count": 4,
      "outputs": [
        {
          "output_type": "execute_result",
          "data": {
            "text/plain": [
              "(array([ 4.,  3.,  0., 12., 15., 10., 15.,  9.,  8., 24.]),\n",
              " array([-13.02344039, -11.14537237,  -9.26730435,  -7.38923634,\n",
              "         -5.51116832,  -3.6331003 ,  -1.75503229,   0.12303573,\n",
              "          2.00110374,   3.87917176,   5.75723978]),\n",
              " <a list of 10 Patch objects>)"
            ]
          },
          "metadata": {},
          "execution_count": 4
        },
        {
          "output_type": "display_data",
          "data": {
            "image/png": "[encoded data removed]",
            "text/plain": [
              "<Figure size 432x288 with 1 Axes>"
            ]
          },
          "metadata": {
            "needs_background": "light"
          }
        }
      ]
    },
    {
      "cell_type": "markdown",
      "metadata": {
        "id": "6wrySDf4ckZw"
      },
      "source": [
        "**B) Calculate and print the mean of the sample you've just drawn.**"
      ]
    },
    {
      "cell_type": "code",
      "metadata": {
        "id": "ocDM_SRJckZx",
        "colab": {
          "base_uri": "https://localhost:8080/"
        },
        "outputId": "d0882ac4-06ec-4d72-bcc4-0e71b4766987"
      },
      "source": [
        "m = np.mean(sample)\n",
        "print(\"The mean of sample is : \", m)"
      ],
      "execution_count": 5,
      "outputs": [
        {
          "output_type": "stream",
          "name": "stdout",
          "text": [
            "The mean of sample is :  -1.1013537776773155\n"
          ]
        }
      ]
    },
    {
      "cell_type": "markdown",
      "metadata": {
        "id": "WZLznSGcckZy"
      },
      "source": [
        "**C) Calculate the *unbiased estimation* of the standard deviation of your sample.**"
      ]
    },
    {
      "cell_type": "code",
      "metadata": {
        "id": "pOgYtH9JckZ1",
        "colab": {
          "base_uri": "https://localhost:8080/"
        },
        "outputId": "488a2481-d82e-4c88-ecb1-7fa6e757e3fe"
      },
      "source": [
        "diff = sample-m\n",
        "N = len(sample)\n",
        "unbiased_std = np.sqrt(np.sum(np.power(diff, 2)) / N-1)\n",
        "print(\"The unbiased_std of sample is : \", unbiased_std)"
      ],
      "execution_count": 37,
      "outputs": [
        {
          "output_type": "stream",
          "name": "stdout",
          "text": [
            "The unbiased_std of sample is :  4.035069119565258\n"
          ]
        }
      ]
    },
    {
      "cell_type": "markdown",
      "metadata": {
        "id": "0w9m1G-HckZ-"
      },
      "source": [
        "**D) Answer the following questions.**\n",
        "- What is an unbiased estimator?\n",
        "- In what situations the maximum likelihood estimation of the variance of a distribution can severely contaminate the estimation?\n",
        "\n",
        "~ Type your answer here ...\n",
        "\n",
        "![image.png](data:image/png;base64,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)"
      ]
    },
    {
      "cell_type": "markdown",
      "metadata": {
        "id": "gXBqVIIdckaC"
      },
      "source": [
        "**E) Now, draw 100 samples of size 30 and calculate the mean value for each sample. Draw the histogram of these mean values. Does this histogram resemble any familiar probability distribution function? Why?**"
      ]
    },
    {
      "cell_type": "code",
      "metadata": {
        "id": "0jIROJm1ckaC",
        "colab": {
          "base_uri": "https://localhost:8080/",
          "height": 358
        },
        "outputId": "c3278e3f-9a53-49af-da3b-2b2f39a4b0e0"
      },
      "source": [
        "n_sample = 30\n",
        "means = np.zeros(100)\n",
        "for i in range(100):\n",
        "  sample = my_kappa(n_sample,student_id)\n",
        "  means[i] = np.mean(sample)\n",
        "plt.hist(means)"
      ],
      "execution_count": 7,
      "outputs": [
        {
          "output_type": "execute_result",
          "data": {
            "text/plain": [
              "(array([ 5.,  5.,  7., 10., 14., 15., 19., 13.,  8.,  4.]),\n",
              " array([-1.73471348, -1.39421107, -1.05370867, -0.71320627, -0.37270386,\n",
              "        -0.03220146,  0.30830095,  0.64880335,  0.98930576,  1.32980816,\n",
              "         1.67031057]),\n",
              " <a list of 10 Patch objects>)"
            ]
          },
          "metadata": {},
          "execution_count": 7
        },
        {
          "output_type": "display_data",
          "data": {
            "image/png": "[encoded data removed]",
            "text/plain": [
              "<Figure size 432x288 with 1 Axes>"
            ]
          },
          "metadata": {
            "needs_background": "light"
          }
        }
      ]
    },
    {
      "cell_type": "markdown",
      "metadata": {
        "id": "QEhtYJ4gGyO4"
      },
      "source": [
        "![image.png](data:image/png;base64,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)"
      ]
    },
    {
      "cell_type": "markdown",
      "metadata": {
        "id": "a16WoBLZckaD"
      },
      "source": [
        "# Problem #2 - Confidence Interval"
      ]
    },
    {
      "cell_type": "markdown",
      "metadata": {
        "id": "lgPPCXhYckaD"
      },
      "source": [
        "**A) Load slot_machine.csv dataset using pandas package. This file contains the data recorded from playing a slot machine for 1000 rounds. Each row in the dataset contains the outcome for a reel of the machine as well as the amount of prize won at that round.**"
      ]
    },
    {
      "cell_type": "code",
      "metadata": {
        "colab": {
          "base_uri": "https://localhost:8080/"
        },
        "id": "qr74snHME3JB",
        "outputId": "771ece3b-db89-430b-bb08-17f99110f862"
      },
      "source": [
        "from google.colab import drive\n",
        "drive.mount('/content/drive')"
      ],
      "execution_count": 8,
      "outputs": [
        {
          "output_type": "stream",
          "name": "stdout",
          "text": [
            "Mounted at /content/drive\n"
          ]
        }
      ]
    },
    {
      "cell_type": "code",
      "metadata": {
        "id": "G4BV-JuFF2Oi"
      },
      "source": [
        "!cp \"/content/drive/My Drive/slot_machine.csv\" \"slot_machine.csv\""
      ],
      "execution_count": 9,
      "outputs": []
    },
    {
      "cell_type": "code",
      "metadata": {
        "id": "XvHQk30hckaE",
        "colab": {
          "base_uri": "https://localhost:8080/",
          "height": 206
        },
        "outputId": "114cedeb-2d8c-4dc6-cbca-c63e9158759b"
      },
      "source": [
        "import pandas as pd\n",
        "data = pd.read_csv('slot_machine.csv')\n",
        "data.head()"
      ],
      "execution_count": 29,
      "outputs": [
        {
          "output_type": "execute_result",
          "data": {
            "text/html": [
              "<div>\n",
              "<style scoped>\n",
              "    .dataframe tbody tr th:only-of-type {\n",
              "        vertical-align: middle;\n",
              "    }\n",
              "\n",
              "    .dataframe tbody tr th {\n",
              "        vertical-align: top;\n",
              "    }\n",
              "\n",
              "    .dataframe thead th {\n",
              "        text-align: right;\n",
              "    }\n",
              "</style>\n",
              "<table border=\"1\" class=\"dataframe\">\n",
              "  <thead>\n",
              "    <tr style=\"text-align: right;\">\n",
              "      <th></th>\n",
              "      <th>reel1</th>\n",
              "      <th>reel2</th>\n",
              "      <th>reel3</th>\n",
              "      <th>prize</th>\n",
              "    </tr>\n",
              "  </thead>\n",
              "  <tbody>\n",
              "    <tr>\n",
              "      <th>0</th>\n",
              "      <td>Apple</td>\n",
              "      <td>Apple</td>\n",
              "      <td>Apple</td>\n",
              "      <td>28.762213</td>\n",
              "    </tr>\n",
              "    <tr>\n",
              "      <th>1</th>\n",
              "      <td>Orange</td>\n",
              "      <td>Apple</td>\n",
              "      <td>Apple</td>\n",
              "      <td>24.541182</td>\n",
              "    </tr>\n",
              "    <tr>\n",
              "      <th>2</th>\n",
              "      <td>Apple</td>\n",
              "      <td>Orange</td>\n",
              "      <td>Apple</td>\n",
              "      <td>19.761514</td>\n",
              "    </tr>\n",
              "    <tr>\n",
              "      <th>3</th>\n",
              "      <td>Banana</td>\n",
              "      <td>Orange</td>\n",
              "      <td>Apple</td>\n",
              "      <td>9.161757</td>\n",
              "    </tr>\n",
              "    <tr>\n",
              "      <th>4</th>\n",
              "      <td>Orange</td>\n",
              "      <td>Apple</td>\n",
              "      <td>Banana</td>\n",
              "      <td>20.491971</td>\n",
              "    </tr>\n",
              "  </tbody>\n",
              "</table>\n",
              "</div>"
            ],
            "text/plain": [
              "    reel1   reel2   reel3      prize\n",
              "0   Apple   Apple   Apple  28.762213\n",
              "1  Orange   Apple   Apple  24.541182\n",
              "2   Apple  Orange   Apple  19.761514\n",
              "3  Banana  Orange   Apple   9.161757\n",
              "4  Orange   Apple  Banana  20.491971"
            ]
          },
          "metadata": {},
          "execution_count": 29
        }
      ]
    },
    {
      "cell_type": "markdown",
      "metadata": {
        "id": "tUN6CpakckaE"
      },
      "source": [
        "**B) Plot the histogram of the prizes won in all rounds.**"
      ]
    },
    {
      "cell_type": "code",
      "metadata": {
        "id": "27Izo3wqckaF",
        "colab": {
          "base_uri": "https://localhost:8080/",
          "height": 358
        },
        "outputId": "1e028910-9ad3-4876-a6d9-6219f9063d30"
      },
      "source": [
        "plt.hist(data['prize'])"
      ],
      "execution_count": 30,
      "outputs": [
        {
          "output_type": "execute_result",
          "data": {
            "text/plain": [
              "(array([ 10.,  18.,  49., 134., 292., 278., 120.,  48.,  37.,  14.]),\n",
              " array([ 6.93938796,  9.73392827, 12.52846858, 15.3230089 , 18.11754921,\n",
              "        20.91208952, 23.70662984, 26.50117015, 29.29571046, 32.09025078,\n",
              "        34.88479109]),\n",
              " <a list of 10 Patch objects>)"
            ]
          },
          "metadata": {},
          "execution_count": 30
        },
        {
          "output_type": "display_data",
          "data": {
            "image/png": "[encoded data removed]",
            "text/plain": [
              "<Figure size 432x288 with 1 Axes>"
            ]
          },
          "metadata": {
            "needs_background": "light"
          }
        }
      ]
    },
    {
      "cell_type": "markdown",
      "metadata": {
        "id": "12VItJLlckaH"
      },
      "source": [
        "**C) Assuming that the amount of prize won in each round is a Gaussian random variable with different parameters for each combination of outcomes, construct a 95% confidence interval for the rounds that the outcome is *\"Banana, Banana, Apple\"*.**"
      ]
    },
    {
      "cell_type": "code",
      "metadata": {
        "colab": {
          "base_uri": "https://localhost:8080/"
        },
        "id": "v48Djl5YHyLv",
        "outputId": "ec36a27d-f9b4-46ab-f21c-4855b05644b5"
      },
      "source": [
        "outcome1 = data.loc[(data['reel1'] == 'Banana') & (data['reel2'] == 'Banana') & (data['reel3'] == 'Apple')]\n",
        "m1 = np.mean(outcome1)\n",
        "# std1 = np.std(outcome1)\n",
        "n1 = len(outcome1)\n",
        "# se1 = std1/np.sqrt(n1)\n",
        "# lower1 = m1-1.96*se1\n",
        "# upper1 = m1+1.96*se1\n",
        "\n",
        "diff1 = outcome1-m1\n",
        "unbiased_std1 = np.sqrt(np.sum(np.power(diff1, 2)) / (n1-1))\n",
        "se1 = unbiased_std1/np.sqrt(n1)\n",
        "lower1 = m1-1.96*se1\n",
        "upper1 = m1+1.96*se1\n",
        "\n",
        "print(\"95% confidence interval for the rounds that the outcome is *Banana, Banana, Apple* = \",(lower1[0],upper1[0]))"
      ],
      "execution_count": 38,
      "outputs": [
        {
          "output_type": "stream",
          "name": "stdout",
          "text": [
            "95% confidence interval for the rounds that the outcome is *Banana, Banana, Apple* =  (22.091549114264037, 23.875195376821264)\n"
          ]
        }
      ]
    },
    {
      "cell_type": "markdown",
      "metadata": {
        "id": "ErZ2aromckaI"
      },
      "source": [
        ""
      ]
    },
    {
      "cell_type": "markdown",
      "metadata": {
        "id": "S2tQ8Wj8ckaI"
      },
      "source": [
        "**D) Now, repeat the procedure in part C for *\"Orange, Orange, Orange\"* and *\"Orange, Apple, Banana\".***"
      ]
    },
    {
      "cell_type": "code",
      "metadata": {
        "id": "LFnbCvaMckaJ",
        "colab": {
          "base_uri": "https://localhost:8080/"
        },
        "outputId": "9114def4-fe4f-46e2-9f38-24a10ce75291"
      },
      "source": [
        "outcome2 = data.loc[(data['reel1'] == 'Orange') & (data['reel2'] == 'Orange') & (data['reel3'] == 'Orange')]\n",
        "m2 = np.mean(outcome2)\n",
        "# std2 = np.std(outcome2)\n",
        "n2 = len(outcome2)\n",
        "# se2 = std2/np.sqrt(n2)\n",
        "# lower2 = m2-1.96*se2\n",
        "# upper2 = m2+1.96*se2\n",
        "\n",
        "diff2 = outcome2-m2\n",
        "unbiased_std2 = np.sqrt(np.sum(np.power(diff2, 2)) / (n2-1))\n",
        "se2 = unbiased_std2/np.sqrt(n2)\n",
        "lower2 = m2-1.96*se2\n",
        "upper2 = m2+1.96*se2\n",
        "\n",
        "print(\"95% confidence interval for the rounds that the outcome is *Orange, Orange, Orange* = \",(lower2[0],upper2[0]))"
      ],
      "execution_count": 39,
      "outputs": [
        {
          "output_type": "stream",
          "name": "stdout",
          "text": [
            "95% confidence interval for the rounds that the outcome is *Orange, Orange, Orange* =  (26.69333552917604, 27.62022689361214)\n"
          ]
        }
      ]
    },
    {
      "cell_type": "code",
      "metadata": {
        "colab": {
          "base_uri": "https://localhost:8080/"
        },
        "id": "M8iijZPrQRfn",
        "outputId": "9f66e9cd-3320-4708-c973-6d3286cbfaa9"
      },
      "source": [
        "outcome3 = data.loc[(data['reel1'] == 'Orange') & (data['reel2'] == 'Apple') & (data['reel3'] == 'Banana')]\n",
        "m3 = np.mean(outcome3)\n",
        "# std3 = np.std(outcome3)\n",
        "n3 = len(outcome3)\n",
        "# se3 = std3/np.sqrt(n3)\n",
        "# lower3 = m3-1.96*se3\n",
        "# upper3 = m3+1.96*se3\n",
        "\n",
        "diff3 = outcome3-m3\n",
        "unbiased_std3 = np.sqrt(np.sum(np.power(diff3, 2)) / (n3-1))\n",
        "se3 = unbiased_std3/np.sqrt(n3)\n",
        "lower3 = m3-1.96*se3\n",
        "upper3 = m3+1.96*se3\n",
        "print(\"95% confidence interval for the rounds that the outcome is *Orange, Apple, Banana* = \",(lower3[0],upper3[0]))"
      ],
      "execution_count": 40,
      "outputs": [
        {
          "output_type": "stream",
          "name": "stdout",
          "text": [
            "95% confidence interval for the rounds that the outcome is *Orange, Apple, Banana* =  (16.215067626007013, 18.16120992765174)\n"
          ]
        }
      ]
    },
    {
      "cell_type": "code",
      "metadata": {
        "colab": {
          "base_uri": "https://localhost:8080/"
        },
        "id": "Sbibj3B_3MBx",
        "outputId": "eac9ea48-7856-4e24-99b7-6c54e4de2ed2"
      },
      "source": [
        "print(n1,n2,n3)"
      ],
      "execution_count": 15,
      "outputs": [
        {
          "output_type": "stream",
          "name": "stdout",
          "text": [
            "28 36 47\n"
          ]
        }
      ]
    },
    {
      "cell_type": "markdown",
      "metadata": {
        "id": "wedAsU33ckaJ"
      },
      "source": [
        "**D) Answer the following questions.**\n",
        "- What is a confidenve interval?\n",
        "- Interpret the results of part C. What does the computed confidence interval mean?\n",
        "- Is there any noticable difference between the average prize for \"Banana, Banana, Apple\" and \"Oragne, Orange, Orange\"? Why?\n",
        "- Is there any noticable difference between the average prize for \"Orange, Orange, Orange\" and \"Oragne, Apple, Banana\"? Why?\n",
        "\n",
        "~Type your answer here ...\n",
        "\n",
        "![image.png](data:image/png;base64,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)"
      ]
    },
    {
      "cell_type": "markdown",
      "metadata": {
        "id": "pNk-CUEzckaK"
      },
      "source": [
        "# Problem #3 - Estimating The Parameters of Some Observations\n",
        "\n",
        "**In this problem, you're going to estimate the average value of a random variable. In contrast with previous problems, you are going to estimate that value over time. To observe a single realization of this random variable, call `my_normal(student_id)` function. Upon calling this function, a single observation/realization of this random variable is returned.**"
      ]
    },
    {
      "cell_type": "markdown",
      "metadata": {
        "id": "PAFudQPYckaK"
      },
      "source": [
        "**A) Draw 100 samples from my_omicron distribution. After observing each realization, calculate the sample mean of the realizations you've observed so far. In addition to that, construct a confidence interval for your estimation at 0.1 significane level. Finally, plot your estimations in a bar plot alongside their confidence errors as whisckers of each bar. Your final plot should be similar to this:**\n",
        "\n",
        "<img src=\"https://support.content.office.net/en-us/media/68efe29e-f30c-4c6f-95cf-9cff7dde1131.jpg\" width=\"400px\" alt=\"no internet connection!\">"
      ]
    },
    {
      "cell_type": "code",
      "metadata": {
        "id": "aSosVTyWckaK"
      },
      "source": [
        "def my_normal(student_id):\n",
        "    digits = np.array([int(d) for d in str(student_id)])\n",
        "    return np.random.normal(loc=np.sum(digits), scale=(digits[3] + digits[5]+1)/(digits[3]+1))\n"
      ],
      "execution_count": 16,
      "outputs": []
    },
    {
      "cell_type": "code",
      "metadata": {
        "colab": {
          "base_uri": "https://localhost:8080/",
          "height": 1000
        },
        "id": "Sd-ODgaOTP1x",
        "outputId": "c8daf04c-7372-4601-ff8d-ded51762bc3a"
      },
      "source": [
        "sample2 = []\n",
        "error = []\n",
        "y = []\n",
        "for i in range(100):\n",
        "  sample2.append(my_normal(student_id))\n",
        "  mean_sample2 = np.mean(sample2)\n",
        "  diff = sample2 - mean_sample2\n",
        "  sigma = np.sqrt(np.sum(np.power(diff, 2)) / (len(sample2)-1))\n",
        "  lower = mean_sample2-1.64*sigma/np.sqrt(len(sample2))\n",
        "  upper = mean_sample2+1.64*sigma/np.sqrt(len(sample2))\n",
        "  print('confidence interval=(',lower,upper,') in ',i,'iteration')\n",
        "  error.append(1.64*sigma/np.sqrt(len(sample2)))\n",
        "  y.append(mean_sample2)\n",
        "\n",
        "x = np.arange(0,100)\n",
        "plt.errorbar(x, y, yerr=error, fmt='o-')\n",
        "#plt.errorbar(x, y, yerr=e, fmt='o-',xlolims=True ,ecolor='red' )\n",
        "plt.show()"
      ],
      "execution_count": 17,
      "outputs": [
        {
          "output_type": "stream",
          "name": "stderr",
          "text": [
            "/usr/local/lib/python3.7/dist-packages/ipykernel_launcher.py:8: RuntimeWarning: invalid value encountered in double_scalars\n",
            "  \n"
          ]
        },
        {
          "output_type": "stream",
          "name": "stdout",
          "text": [
            "confidence interval=( nan nan ) in  0 iteration\n",
            "confidence interval=( 22.7546725894641 49.838604965855616 ) in  1 iteration\n",
            "confidence interval=( 28.029176765113103 43.72633650928909 ) in  2 iteration\n",
            "confidence interval=( 31.064243087762584 42.59419444815489 ) in  3 iteration\n",
            "confidence interval=( 31.242300513935472 40.637597919723184 ) in  4 iteration\n",
            "confidence interval=( 32.35864356568911 40.08547799535884 ) in  5 iteration\n",
            "confidence interval=( 31.953723229698937 38.95358107851351 ) in  6 iteration\n",
            "confidence interval=( 32.69450153427669 38.84442001999923 ) in  7 iteration\n",
            "confidence interval=( 33.54573158861459 39.518580804719896 ) in  8 iteration\n",
            "confidence interval=( 33.09690840771567 38.781946747548965 ) in  9 iteration\n",
            "confidence interval=( 33.19099807830937 38.36114745932458 ) in  10 iteration\n",
            "confidence interval=( 33.596338117844205 38.36303490342619 ) in  11 iteration\n",
            "confidence interval=( 33.72736110968522 38.11619635115183 ) in  12 iteration\n",
            "confidence interval=( 33.44064265169084 37.67544475089241 ) in  13 iteration\n",
            "confidence interval=( 33.61728525141345 37.56099045011101 ) in  14 iteration\n",
            "confidence interval=( 33.71435954135393 37.40463868073688 ) in  15 iteration\n",
            "confidence interval=( 34.16331191313382 38.12409870725782 ) in  16 iteration\n",
            "confidence interval=( 34.14625479564923 37.90119886688716 ) in  17 iteration\n",
            "confidence interval=( 34.4947711502227 38.20349552637541 ) in  18 iteration\n",
            "confidence interval=( 34.57042813232286 38.089397761853775 ) in  19 iteration\n",
            "confidence interval=( 34.547301031429775 37.910815650461394 ) in  20 iteration\n",
            "confidence interval=( 34.91156024731244 38.43197065560683 ) in  21 iteration\n",
            "confidence interval=( 34.85422469732263 38.24238092763779 ) in  22 iteration\n",
            "confidence interval=( 34.81757491946642 38.07817010291133 ) in  23 iteration\n",
            "confidence interval=( 34.997965433977804 38.15338753310643 ) in  24 iteration\n",
            "confidence interval=( 34.792213527923444 37.91147528762179 ) in  25 iteration\n",
            "confidence interval=( 34.41114533625423 37.612920160537946 ) in  26 iteration\n",
            "confidence interval=( 34.445032165730694 37.53133124955727 ) in  27 iteration\n",
            "confidence interval=( 34.41700671955623 37.405632943600935 ) in  28 iteration\n",
            "confidence interval=( 34.29213922113475 37.22310669862958 ) in  29 iteration\n",
            "confidence interval=( 34.40120510572937 37.24405673435961 ) in  30 iteration\n",
            "confidence interval=( 34.39803301386867 37.1547843313227 ) in  31 iteration\n",
            "confidence interval=( 34.48026493938733 37.155645579339584 ) in  32 iteration\n",
            "confidence interval=( 34.634443827628104 37.26593418330869 ) in  33 iteration\n",
            "confidence interval=( 34.56839947562833 37.14243689521812 ) in  34 iteration\n",
            "confidence interval=( 34.50736219249592 37.02579208087485 ) in  35 iteration\n",
            "confidence interval=( 34.45836284369921 36.920771244079354 ) in  36 iteration\n",
            "confidence interval=( 34.52535558872759 36.92492654804013 ) in  37 iteration\n",
            "confidence interval=( 34.55347148975806 36.89072657468751 ) in  38 iteration\n",
            "confidence interval=( 34.40252009854202 36.735335972023485 ) in  39 iteration\n",
            "confidence interval=( 34.536811983946436 36.84769834704315 ) in  40 iteration\n",
            "confidence interval=( 34.69611437477315 37.01346380237357 ) in  41 iteration\n",
            "confidence interval=( 34.583197945905454 36.8814034482411 ) in  42 iteration\n",
            "confidence interval=( 34.38260734101103 36.7095640640594 ) in  43 iteration\n",
            "confidence interval=( 34.38788175619941 36.66352297064805 ) in  44 iteration\n",
            "confidence interval=( 34.44372030605509 36.671825832065046 ) in  45 iteration\n",
            "confidence interval=( 34.583103798834195 36.81045144159376 ) in  46 iteration\n",
            "confidence interval=( 34.62511528681593 36.806457374262706 ) in  47 iteration\n",
            "confidence interval=( 34.6845366301977 36.82469028408936 ) in  48 iteration\n",
            "confidence interval=( 34.61911278563545 36.73199905129317 ) in  49 iteration\n",
            "confidence interval=( 34.505201901946585 36.61159404612098 ) in  50 iteration\n",
            "confidence interval=( 34.52933189595561 36.59485489265363 ) in  51 iteration\n",
            "confidence interval=( 34.463391622901895 36.5055095400063 ) in  52 iteration\n",
            "confidence interval=( 34.490535736965676 36.49465798743943 ) in  53 iteration\n",
            "confidence interval=( 34.64747540337077 36.70493437401188 ) in  54 iteration\n",
            "confidence interval=( 34.770581121669665 36.832301320126376 ) in  55 iteration\n",
            "confidence interval=( 34.60330915251014 36.690860679960544 ) in  56 iteration\n",
            "confidence interval=( 34.59086319826976 36.64438179150903 ) in  57 iteration\n",
            "confidence interval=( 34.62710623030506 36.6464995612417 ) in  58 iteration\n",
            "confidence interval=( 34.76278161046328 36.806647805004104 ) in  59 iteration\n",
            "confidence interval=( 34.84816884068244 36.87374620825123 ) in  60 iteration\n",
            "confidence interval=( 34.993132853022026 37.057340762304854 ) in  61 iteration\n",
            "confidence interval=( 34.97657678908868 37.01042111615875 ) in  62 iteration\n",
            "confidence interval=( 35.06015341452079 37.07707061810286 ) in  63 iteration\n",
            "confidence interval=( 34.93133276204548 36.95812683509455 ) in  64 iteration\n",
            "confidence interval=( 34.94264996617867 36.938544825685504 ) in  65 iteration\n",
            "confidence interval=( 34.987429104085436 36.95595245223625 ) in  66 iteration\n",
            "confidence interval=( 34.911960348679756 36.86943039135819 ) in  67 iteration\n",
            "confidence interval=( 35.05258563752653 37.05373198635317 ) in  68 iteration\n",
            "confidence interval=( 35.149225410695315 37.14567852053512 ) in  69 iteration\n",
            "confidence interval=( 35.11922039886124 37.092119211284206 ) in  70 iteration\n",
            "confidence interval=( 35.197720254958455 37.157230435395064 ) in  71 iteration\n",
            "confidence interval=( 35.22877323399381 37.16215493248516 ) in  72 iteration\n",
            "confidence interval=( 35.24208952311754 37.149165558320874 ) in  73 iteration\n",
            "confidence interval=( 35.37446271610058 37.32093277900333 ) in  74 iteration\n",
            "confidence interval=( 35.19366692390087 37.183848001991656 ) in  75 iteration\n",
            "confidence interval=( 35.15428504394319 37.1250396152446 ) in  76 iteration\n",
            "confidence interval=( 35.159805883322726 37.10527063314181 ) in  77 iteration\n",
            "confidence interval=( 35.081891352093365 37.02091990736109 ) in  78 iteration\n",
            "confidence interval=( 35.17312574880113 37.11062075298024 ) in  79 iteration\n",
            "confidence interval=( 35.17794324264485 37.091512579152386 ) in  80 iteration\n",
            "confidence interval=( 35.09784646782646 37.00709514484629 ) in  81 iteration\n",
            "confidence interval=( 35.06969689494893 36.95985084435428 ) in  82 iteration\n",
            "confidence interval=( 35.068994395778624 36.93691333911807 ) in  83 iteration\n",
            "confidence interval=( 35.03244924498633 36.88407370600027 ) in  84 iteration\n",
            "confidence interval=( 35.03329678356957 36.86354860007462 ) in  85 iteration\n",
            "confidence interval=( 35.10705332512258 36.93088319702788 ) in  86 iteration\n",
            "confidence interval=( 35.088388174423685 36.89369861728552 ) in  87 iteration\n",
            "confidence interval=( 35.103502173618246 36.888486848693454 ) in  88 iteration\n",
            "confidence interval=( 35.16295163184659 36.936820958986125 ) in  89 iteration\n",
            "confidence interval=( 35.25242121049617 37.03288036711239 ) in  90 iteration\n",
            "confidence interval=( 35.34183934156526 37.12890889869621 ) in  91 iteration\n",
            "confidence interval=( 35.374229839141194 37.14366966107198 ) in  92 iteration\n",
            "confidence interval=( 35.418903992848534 37.17370096878991 ) in  93 iteration\n",
            "confidence interval=( 35.46531467553761 37.20638008913866 ) in  94 iteration\n",
            "confidence interval=( 35.44757860034293 37.172491517682126 ) in  95 iteration\n",
            "confidence interval=( 35.43385308325319 37.14240245232471 ) in  96 iteration\n",
            "confidence interval=( 35.509192919121716 37.21831465290754 ) in  97 iteration\n",
            "confidence interval=( 35.46787914391347 37.16652536288192 ) in  98 iteration\n",
            "confidence interval=( 35.54831764726823 37.25167978207741 ) in  99 iteration\n"
          ]
        },
        {
          "output_type": "display_data",
          "data": {
            "image/png": "[encoded data removed]",
            "text/plain": [
              "<Figure size 432x288 with 1 Axes>"
            ]
          },
          "metadata": {
            "needs_background": "light"
          }
        }
      ]
    },
    {
      "cell_type": "markdown",
      "metadata": {
        "id": "PuTVWfNzckaL"
      },
      "source": [
        "**B) How is your estimation changing over time? How is your confidence interval changing? Explain why.**"
      ]
    },
    {
      "cell_type": "markdown",
      "metadata": {
        "id": "moAxb8COr0sB"
      },
      "source": [
        "![image.png](data:image/png;base64,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)"
      ]
    }
  ]
}