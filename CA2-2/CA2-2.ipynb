{
  "nbformat": 4,
  "nbformat_minor": 0,
  "metadata": {
    "colab": {
      "name": "HW2_2_RL.ipynb",
      "provenance": [],
      "collapsed_sections": [
        "LhwuIHgBF_UU",
        "aAUMhHj7ekjb"
      ]
    },
    "kernelspec": {
      "name": "python3",
      "display_name": "Python 3"
    },
    "language_info": {
      "name": "python"
    },
    "accelerator": "GPU"
  },
  "cells": [
    {
      "cell_type": "code",
      "metadata": {
        "colab": {
          "base_uri": "https://localhost:8080/"
        },
        "id": "27uYYY_1OTvF",
        "outputId": "a7c119a2-182b-4eb6-bda8-1672d0fd0c96"
      },
      "source": [
        "from google.colab import drive \n",
        "drive.mount('/content/drive')"
      ],
      "execution_count": 17,
      "outputs": [
        {
          "output_type": "stream",
          "name": "stdout",
          "text": [
            "Drive already mounted at /content/drive; to attempt to forcibly remount, call drive.mount(\"/content/drive\", force_remount=True).\n"
          ]
        }
      ]
    },
    {
      "cell_type": "code",
      "metadata": {
        "colab": {
          "base_uri": "https://localhost:8080/"
        },
        "id": "zksM_eClOX6r",
        "outputId": "23dbc599-c8f6-4f6d-dbd2-17c5220fcec3"
      },
      "source": [
        "%cd '/content/drive/My Drive/RL/amalearn'"
      ],
      "execution_count": 18,
      "outputs": [
        {
          "output_type": "stream",
          "name": "stdout",
          "text": [
            "/content/drive/My Drive/RL/amalearn\n"
          ]
        }
      ]
    },
    {
      "cell_type": "code",
      "metadata": {
        "colab": {
          "base_uri": "https://localhost:8080/"
        },
        "id": "tyz53kYqOdCj",
        "outputId": "571f98a9-bdba-4d32-d3e2-6774d0fd29ae"
      },
      "source": [
        "!pwd"
      ],
      "execution_count": 19,
      "outputs": [
        {
          "output_type": "stream",
          "name": "stdout",
          "text": [
            "/content/drive/My Drive/RL/amalearn\n"
          ]
        }
      ]
    },
    {
      "cell_type": "code",
      "metadata": {
        "colab": {
          "base_uri": "https://localhost:8080/"
        },
        "id": "LM5INhtEOguA",
        "outputId": "c57c783e-d1a2-4bb4-e25e-7c0d9671a565"
      },
      "source": [
        "!pip install -e ."
      ],
      "execution_count": 20,
      "outputs": [
        {
          "output_type": "stream",
          "name": "stdout",
          "text": [
            "Obtaining file:///content/drive/My%20Drive/RL/amalearn\n",
            "Requirement already satisfied: gym in /usr/local/lib/python3.7/dist-packages (from amalearn==0.1) (0.17.3)\n",
            "Requirement already satisfied: numpy in /usr/local/lib/python3.7/dist-packages (from amalearn==0.1) (1.19.5)\n",
            "Requirement already satisfied: pyglet<=1.5.0,>=1.4.0 in /usr/local/lib/python3.7/dist-packages (from gym->amalearn==0.1) (1.5.0)\n",
            "Requirement already satisfied: cloudpickle<1.7.0,>=1.2.0 in /usr/local/lib/python3.7/dist-packages (from gym->amalearn==0.1) (1.3.0)\n",
            "Requirement already satisfied: scipy in /usr/local/lib/python3.7/dist-packages (from gym->amalearn==0.1) (1.4.1)\n",
            "Requirement already satisfied: future in /usr/local/lib/python3.7/dist-packages (from pyglet<=1.5.0,>=1.4.0->gym->amalearn==0.1) (0.16.0)\n",
            "Installing collected packages: amalearn\n",
            "  Attempting uninstall: amalearn\n",
            "    Found existing installation: amalearn 0.1\n",
            "    Can't uninstall 'amalearn'. No files were found to uninstall.\n",
            "  Running setup.py develop for amalearn\n",
            "Successfully installed amalearn-0.1\n"
          ]
        }
      ]
    },
    {
      "cell_type": "code",
      "metadata": {
        "id": "3OwEVaGLOFDd"
      },
      "source": [
        "import numpy as np\n",
        "import matplotlib.pyplot as plt\n",
        "import math\n",
        "from amalearn.agent import AgentBase\n",
        "import csv\n",
        "import pandas as pd\n",
        "from numpy import exp"
      ],
      "execution_count": 21,
      "outputs": []
    },
    {
      "cell_type": "markdown",
      "metadata": {
        "id": "LhwuIHgBF_UU"
      },
      "source": [
        "##REWARD"
      ]
    },
    {
      "cell_type": "code",
      "metadata": {
        "id": "H__MMOraF-9O"
      },
      "source": [
        "from amalearn.reward import RewardBase\n",
        "import numpy as np\n",
        "\n",
        "class GaussianReward(RewardBase):\n",
        "    def __init__(self, mean, std):\n",
        "        super(GaussianReward, self).__init__()\n",
        "        self.mean = mean\n",
        "        self.std = std\n",
        "\n",
        "    def get_reward(self):\n",
        "        return np.random.normal(loc=self.mean, scale=self.std)\n",
        "\n",
        "\n",
        "class UniformReward(RewardBase):\n",
        "    def __init__(self, low, high):\n",
        "      super(UniformReward, self).__init__()\n",
        "      self.low = low\n",
        "      self.high = high\n",
        "\n",
        "    def get_reward(self):\n",
        "        return np.random.uniform(low=self.low, high=self.high, size=None)\n",
        "\n",
        "\n",
        "class BetaReward(RewardBase):\n",
        "    def __init__(self, a, b):\n",
        "      super(BetaReward, self).__init__()\n",
        "      self.a = a\n",
        "      self.b = b\n",
        "\n",
        "    def get_reward(self):\n",
        "        return np.random.beta(a=self.a, b=self.b, size=None)"
      ],
      "execution_count": 22,
      "outputs": []
    },
    {
      "cell_type": "code",
      "metadata": {
        "id": "4JUotw2iFslA"
      },
      "source": [
        "def SelectPack(volumes, prices):\n",
        "  random_number = np.random.random_sample()\n",
        "  \n",
        "  \n",
        "  if random_number >= 0.33:\n",
        "    x = BetaReward(2,5).get_reward()\n",
        "    volumes_beta = []\n",
        "    for i in range(len(volumes)):\n",
        "      volumes_beta.append(volumes[i] * x)\n",
        "    selected_pack = np.argmax(volumes_beta) \n",
        "  else:\n",
        "    x = BetaReward(3,2.5).get_reward()\n",
        "    volumes_prices_beta = np.divide(volumes, prices) * x\n",
        "    selected_pack = np.argmin(volumes_prices_beta)\n",
        "  return selected_pack"
      ],
      "execution_count": 23,
      "outputs": []
    },
    {
      "cell_type": "code",
      "metadata": {
        "id": "-vhtb-Xi43In"
      },
      "source": [
        "class Pack:\n",
        "    def __init__(self, p, v):\n",
        "        \n",
        "        self.price = p\n",
        "        self.volume = v\n",
        "\n",
        "    def get_price(self):\n",
        "      return self.price\n",
        "    def get_volume(self):\n",
        "      return self.volume\n"
      ],
      "execution_count": 24,
      "outputs": []
    },
    {
      "cell_type": "markdown",
      "metadata": {
        "id": "erb2WC2bZ0n4"
      },
      "source": [
        "##Epsilon Greedy"
      ]
    },
    {
      "cell_type": "code",
      "metadata": {
        "id": "UtiNfLmi-lJC"
      },
      "source": [
        "class EpsilonGreedyAgent(AgentBase):\n",
        "    def __init__(self, id, environment):\n",
        "        super(EpsilonGreedyAgent, self).__init__(id, environment)\n",
        "        \n",
        "        self.counts = [0 for col in range(2)]\n",
        "        self.values = [0.0 for col in range(2)]\n",
        "        self.epsilon = 0.1\n",
        "\n",
        "       \n",
        "  \n",
        "    def take_action(self) -> (object, float, bool, object , np.ndarray ):\n",
        "      available_actions = self.environment.available_actions()\n",
        "\n",
        "      random_number = np.random.random_sample()\n",
        "      if random_number >= self.epsilon:\n",
        "        action = np.argmax(self.values)\n",
        "      else:\n",
        "        action = np.random.randint(available_actions)\n",
        "\n",
        "      #plan1\n",
        "      pack1 = Pack(21, 6)\n",
        "      pack2 = Pack(35, 12)\n",
        "      #plan2\n",
        "      pack3 = Pack(12, 3)\n",
        "      pack4 = Pack(22, 8)\n",
        "\n",
        "      volumes_plan1 = np.array([pack1.get_volume(), pack2.get_volume()])\n",
        "      prices_plan1 = np.array([pack1.get_price(), pack2.get_price()])\n",
        "      volumes_plan2 = np.array([pack3.get_volume(), pack4.get_volume()])\n",
        "      prices_plan2 = np.array([pack3.get_price(), pack4.get_price()])\n",
        "\n",
        "      if action == 0:\n",
        "        selected_pack = SelectPack(volumes_plan1, prices_plan1)\n",
        "      else:\n",
        "        selected_pack = SelectPack(volumes_plan2, prices_plan2)\n",
        "      # print(selected_pack)\n",
        "      \n",
        "      obs, r, d, i = self.environment.step(selected_pack)\n",
        "\n",
        "\n",
        "      # if r > 0 :\n",
        "      #   r = math.pow(r, self.alpha)\n",
        "      # else:\n",
        "      #   r = -self.gamma*math.pow(r, self.beta)       \n",
        "      \n",
        "      # self.counts[action] = self.counts[action] + 1\n",
        "      # n = self.counts[action]\n",
        "      # value = self.values[action]\n",
        "      # new_value = ((n-1) / float(n)) * value + (1 / float(n)) * r\n",
        "      # self.values[action] = new_value\n",
        "      # print(self.values)\n",
        "      return obs, r, d, i, action, selected_pack\n",
        "    \n",
        "    def set_epsilon(self):\n",
        "      self.epsilon += 0.001\n",
        "\n",
        "  \n"
      ],
      "execution_count": 25,
      "outputs": []
    },
    {
      "cell_type": "markdown",
      "metadata": {
        "id": "aAUMhHj7ekjb"
      },
      "source": [
        "##Environment"
      ]
    },
    {
      "cell_type": "code",
      "metadata": {
        "id": "-9_wT3XIww9H"
      },
      "source": [
        "import gym\n",
        "from amalearn.environment import EnvironmentBase\n",
        "\n",
        "class MyEnvironment(EnvironmentBase):\n",
        "    def __init__(self, rewards, episode_max_length, id, container=None):\n",
        "        state_space = gym.spaces.Discrete(1)\n",
        "        action_space = gym.spaces.Discrete(len(rewards))\n",
        "\n",
        "        super(MyEnvironment, self).__init__(action_space, state_space, id, container)\n",
        "        self.arms_rewards = rewards\n",
        "        self.episode_max_length = episode_max_length\n",
        "        self.state = {\n",
        "            'length': 0,\n",
        "            'last_action': None\n",
        "        }\n",
        "\n",
        "    def calculate_reward(self, action):\n",
        "        return self.arms_rewards[action]\n",
        "\n",
        "    def terminated(self):\n",
        "        return self.state['length'] >= self.episode_max_length\n",
        "\n",
        "    def observe(self):\n",
        "        return {}\n",
        "\n",
        "    def available_actions(self):\n",
        "        return self.action_space.n\n",
        "\n",
        "    def next_state(self, action):\n",
        "        self.state['length'] += 1\n",
        "        self.state['last_action'] = action\n",
        "\n",
        "    def reset(self):\n",
        "        self.state['length'] = 0\n",
        "        self.state['last_action'] = None\n",
        "\n",
        "    def render(self, mode='human'):\n",
        "        print('{}:\\taction={}'.format(self.state['length'], self.state['last_action']))\n",
        "\n",
        "    def close(self):\n",
        "        return\n",
        "        "
      ],
      "execution_count": 26,
      "outputs": []
    },
    {
      "cell_type": "markdown",
      "metadata": {
        "id": "wSTKg9dO62Mp"
      },
      "source": [
        "##Rewards"
      ]
    },
    {
      "cell_type": "code",
      "metadata": {
        "colab": {
          "base_uri": "https://localhost:8080/"
        },
        "id": "FLCVdgBvMENN",
        "outputId": "b5cde4cb-5d32-4c0c-e5a3-31cf2c328842"
      },
      "source": [
        "rewards = []\n",
        "#plan1\n",
        "pack1 = Pack(21, 6)\n",
        "pack2 = Pack(35, 12)\n",
        "#plan2\n",
        "pack3 = Pack(12, 3)\n",
        "pack4 = Pack(22, 8)\n",
        "\n",
        "prices = np.array([[pack1.get_price(), pack2.get_price()], [pack3.get_price(), pack4.get_price()]])\n",
        "volumes = np.array([[pack1.get_volume(), pack2.get_volume()], [pack3.get_volume(), pack4.get_volume()]])\n",
        "remain_volume = 1-GaussianReward(0.61,0.05).get_reward()\n",
        "rewards = prices + (prices * remain_volume)\n",
        "\n",
        "print(rewards)"
      ],
      "execution_count": 27,
      "outputs": [
        {
          "output_type": "stream",
          "name": "stdout",
          "text": [
            "[[30.57493604 50.95822673]\n",
            " [17.47139202 32.03088537]]\n"
          ]
        }
      ]
    },
    {
      "cell_type": "code",
      "metadata": {
        "id": "LQPAttAr6o6k"
      },
      "source": [
        "env = MyEnvironment(rewards=rewards, episode_max_length = 1000, id = '1')\n",
        "agent1 = EpsilonGreedyAgent('1', env)"
      ],
      "execution_count": 28,
      "outputs": []
    },
    {
      "cell_type": "markdown",
      "metadata": {
        "id": "K6PC-ht6hH1e"
      },
      "source": [
        "##EPSILONGREEDY_RUN"
      ]
    },
    {
      "cell_type": "code",
      "metadata": {
        "colab": {
          "base_uri": "https://localhost:8080/",
          "height": 316
        },
        "id": "awXWqNXmAuz0",
        "outputId": "322090f5-d9cc-4dbe-dfbf-afbe02113fec"
      },
      "source": [
        "plt.figure()\n",
        "r1 = r2 = 0\n",
        "count1 = count2 = 0\n",
        "for k in range(1,10000):\n",
        "  observation, reward, done, info, action, selected_pack = agent1.take_action()\n",
        "  if (action == 0) and (selected_pack == 0):\n",
        "    r1 += reward[0]\n",
        "    count1 +=1\n",
        "  elif (action == 0) and (selected_pack == 1):\n",
        "    r1 += reward[1]\n",
        "    count1 +=1\n",
        "  elif (action == 1) and (selected_pack == 0):\n",
        "    r2 += reward[0]\n",
        "    count2 +=1\n",
        "  else:\n",
        "    r2 += reward[1]\n",
        "    count2 +=1\n",
        "\n",
        "average_action1 = r1/count1\n",
        "if count2 == 0:\n",
        "  average_action2 = 0\n",
        "else:\n",
        "  average_action2 = r2/count2\n",
        "\n",
        "if average_action1 > average_action2:\n",
        "  optimal_action = 0\n",
        "  optimal_average = average_action1\n",
        "else:\n",
        "  optimal_action = 1\n",
        "  optimal_average = average_action2\n",
        "\n",
        "print(optimal_action)\n",
        "for i in range(10):\n",
        "  agent1.epsilon= 0.1\n",
        "  count = [0 for col in range(2)]\n",
        "  values = [0.0 for col in range(2)]\n",
        "  rewards = []\n",
        "  selected_action = []\n",
        "  REGRET = []\n",
        "  for j in range(1,1001):\n",
        "    if j % 100 == 0:\n",
        "      # print(j)\n",
        "      agent1.epsilon += 0.05\n",
        "      # print(agent1.epsilon)\n",
        "    observation, reward, done, info, action, selected_pack = agent1.take_action()\n",
        "    \n",
        "    count[action] +=1\n",
        "    if (action == 0) and (selected_pack == 0): \n",
        "      values[action] = reward[0] * (1/count[action]) + ((count[action]-1)/count[action])*values[action]\n",
        "      rewards.append(reward[0])\n",
        "    elif (action == 0) and (selected_pack == 1): \n",
        "      values[action] = reward[1] * (1/count[action]) + ((count[action]-1)/count[action])*values[action]\n",
        "      rewards.append(reward[1])\n",
        "    \n",
        "    elif (action == 1) and (selected_pack == 0): \n",
        "      values[action] = reward[0] * (1/count[action]) + ((count[action]-1)/count[action])*values[action]\n",
        "      rewards.append(reward[0])\n",
        "    else:\n",
        "      values[action] = reward[1] * (1/count[action]) + ((count[action]-1)/count[action])*values[action]\n",
        "      rewards.append(reward[1])\n",
        "    \n",
        "    selected_action.append(action)\n",
        "  \n",
        "  for k in range(len(selected_action)):\n",
        "    regret = (optimal_average - rewards[k]/k)\n",
        "    REGRET.append(regret)\n",
        "\n",
        "plt.plot(REGRET)\n",
        "plt.xlabel(\"trial\")\n",
        "plt.ylabel(\"regret\")\n",
        "plt.show()"
      ],
      "execution_count": 29,
      "outputs": [
        {
          "output_type": "stream",
          "name": "stdout",
          "text": [
            "0\n"
          ]
        },
        {
          "output_type": "stream",
          "name": "stderr",
          "text": [
            "/usr/local/lib/python3.7/dist-packages/ipykernel_launcher.py:65: RuntimeWarning: divide by zero encountered in double_scalars\n"
          ]
        },
        {
          "output_type": "display_data",
          "data": {
            "image/png": "[encoded data removed]",
            "text/plain": [
              "<Figure size 432x288 with 1 Axes>"
            ]
          },
          "metadata": {
            "needs_background": "light"
          }
        }
      ]
    }
  ]
}