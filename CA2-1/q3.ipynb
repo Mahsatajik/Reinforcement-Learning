{
  "nbformat": 4,
  "nbformat_minor": 0,
  "metadata": {
    "colab": {
      "name": "Untitled0.ipynb",
      "provenance": [],
      "collapsed_sections": []
    },
    "kernelspec": {
      "name": "python3",
      "display_name": "Python 3"
    },
    "language_info": {
      "name": "python"
    },
    "accelerator": "GPU"
  },
  "cells": [
    {
      "cell_type": "code",
      "metadata": {
        "colab": {
          "base_uri": "https://localhost:8080/"
        },
        "id": "wumGNlWCNjds",
        "outputId": "3fd63ace-5e70-4e53-a743-d6fe17275836"
      },
      "source": [
        "from google.colab import drive \n",
        "drive.mount('/content/drive')"
      ],
      "execution_count": 28,
      "outputs": [
        {
          "output_type": "stream",
          "name": "stdout",
          "text": [
            "Drive already mounted at /content/drive; to attempt to forcibly remount, call drive.mount(\"/content/drive\", force_remount=True).\n"
          ]
        }
      ]
    },
    {
      "cell_type": "code",
      "metadata": {
        "colab": {
          "base_uri": "https://localhost:8080/"
        },
        "id": "NIQOts1BLtxD",
        "outputId": "58d2bc13-28ad-4989-d848-efe6dbba5da8"
      },
      "source": [
        "%cd '/content/drive/My Drive/RL/amalearn'"
      ],
      "execution_count": 29,
      "outputs": [
        {
          "output_type": "stream",
          "name": "stdout",
          "text": [
            "/content/drive/My Drive/RL/amalearn\n"
          ]
        }
      ]
    },
    {
      "cell_type": "code",
      "metadata": {
        "colab": {
          "base_uri": "https://localhost:8080/"
        },
        "id": "Np6m6LdtNwy1",
        "outputId": "daabc863-3f22-4201-b6b4-50532a0ad349"
      },
      "source": [
        "!pwd"
      ],
      "execution_count": 30,
      "outputs": [
        {
          "output_type": "stream",
          "name": "stdout",
          "text": [
            "/content/drive/My Drive/RL/amalearn\n"
          ]
        }
      ]
    },
    {
      "cell_type": "code",
      "metadata": {
        "colab": {
          "base_uri": "https://localhost:8080/"
        },
        "id": "bzbs5GzhLgSL",
        "outputId": "cfaf600c-9638-4ae5-9506-45b7ec3d5ef5"
      },
      "source": [
        "!pip install -e ."
      ],
      "execution_count": 31,
      "outputs": [
        {
          "output_type": "stream",
          "name": "stdout",
          "text": [
            "Obtaining file:///content/drive/My%20Drive/RL/amalearn\n",
            "Requirement already satisfied: gym in /usr/local/lib/python3.7/dist-packages (from amalearn==0.1) (0.17.3)\n",
            "Requirement already satisfied: numpy in /usr/local/lib/python3.7/dist-packages (from amalearn==0.1) (1.19.5)\n",
            "Requirement already satisfied: scipy in /usr/local/lib/python3.7/dist-packages (from gym->amalearn==0.1) (1.4.1)\n",
            "Requirement already satisfied: cloudpickle<1.7.0,>=1.2.0 in /usr/local/lib/python3.7/dist-packages (from gym->amalearn==0.1) (1.3.0)\n",
            "Requirement already satisfied: pyglet<=1.5.0,>=1.4.0 in /usr/local/lib/python3.7/dist-packages (from gym->amalearn==0.1) (1.5.0)\n",
            "Requirement already satisfied: future in /usr/local/lib/python3.7/dist-packages (from pyglet<=1.5.0,>=1.4.0->gym->amalearn==0.1) (0.16.0)\n",
            "Installing collected packages: amalearn\n",
            "  Attempting uninstall: amalearn\n",
            "    Found existing installation: amalearn 0.1\n",
            "    Can't uninstall 'amalearn'. No files were found to uninstall.\n",
            "  Running setup.py develop for amalearn\n",
            "Successfully installed amalearn-0.1\n"
          ]
        }
      ]
    },
    {
      "cell_type": "code",
      "metadata": {
        "colab": {
          "base_uri": "https://localhost:8080/"
        },
        "id": "_Oh4mTpsN7RB",
        "outputId": "95e06842-0cc1-4355-e393-983a66be477b"
      },
      "source": [
        "!ls"
      ],
      "execution_count": 32,
      "outputs": [
        {
          "output_type": "stream",
          "name": "stdout",
          "text": [
            "amalearn\t   Q1.ipynb  Q3.ipynb\t    setup.py\n",
            "amalearn.egg-info  Q2.ipynb  README.md\t    Untitled0.ipynb\n",
            "example\t\t   Q3.csv    salighe.ipynb\n"
          ]
        }
      ]
    },
    {
      "cell_type": "markdown",
      "metadata": {
        "id": "I9Fhc0_BQl3-"
      },
      "source": [
        "##Q3"
      ]
    },
    {
      "cell_type": "code",
      "metadata": {
        "id": "CjUr4t6RQvTj"
      },
      "source": [
        "import pandas as pd\n",
        "import numpy as np\n",
        "import math\n",
        "import seaborn as sns\n",
        "import matplotlib.pyplot as plt\n",
        "from numpy import exp"
      ],
      "execution_count": 33,
      "outputs": []
    },
    {
      "cell_type": "code",
      "metadata": {
        "colab": {
          "base_uri": "https://localhost:8080/"
        },
        "id": "l-cJAdEmN-KC",
        "outputId": "a98fd872-72e7-41f8-a6b1-6beae131b47e"
      },
      "source": [
        "data = pd.read_csv('Q3.csv')\n",
        "# data.head()\n",
        "type(data.columns[0])\n",
        "# data.columns[0]\n",
        "\n",
        "data = np.array(data)\n",
        "data"
      ],
      "execution_count": 34,
      "outputs": [
        {
          "output_type": "execute_result",
          "data": {
            "text/plain": [
              "array([[ 8.3080752,  0.118582 , 71.868439 , ..., 19.966871 , 60.7034562,\n",
              "        22.545958 ],\n",
              "       [ 9.040232 ,  1.276014 , 71.5519086, ..., 19.766006 , 59.838882 ,\n",
              "        22.771789 ],\n",
              "       [ 8.405164 ,  2.573752 , 72.2216056, ..., 20.104219 , 58.5127394,\n",
              "        22.247714 ],\n",
              "       ...,\n",
              "       [ 8.3328848,  1.179804 , 71.3302872, ..., 19.974936 , 60.7230212,\n",
              "        23.331864 ],\n",
              "       [ 8.2552506,  2.139315 , 72.1724598, ..., 20.814999 , 59.293283 ,\n",
              "        23.146193 ],\n",
              "       [ 8.1621658,  0.734454 , 71.4763358, ..., 20.478108 , 60.5554324,\n",
              "        24.175131 ]])"
            ]
          },
          "metadata": {},
          "execution_count": 34
        }
      ]
    },
    {
      "cell_type": "code",
      "metadata": {
        "id": "PIu09xnYaRUS"
      },
      "source": [
        "def softmax(vector):\n",
        "\te = vector - min(vector)\n",
        "\treturn e / e.sum()"
      ],
      "execution_count": 35,
      "outputs": []
    },
    {
      "cell_type": "code",
      "metadata": {
        "id": "-Nxxz5uwgceB"
      },
      "source": [
        "# import numpy as np\n",
        "# a = np.zeros(8)\n",
        "# a = [[3,3,3,3,3,3],[1,2,5,3,3,3],[1,2,3,3,2,3],[1,2,3,3,3,1],[1,2,3,6,3,3],[1,2,4,3,3,3],[1,2,3,3,3,9],[1,2,3,4,4,3]]\n",
        "# for i in range(8):\n",
        "#   print(np.mean(a[i]))"
      ],
      "execution_count": 36,
      "outputs": []
    },
    {
      "cell_type": "code",
      "metadata": {
        "id": "FsTuyAB3Qyea"
      },
      "source": [
        "def reinforcement_comparison(alpha, beta):\n",
        "\n",
        "  H = np.zeros(6)\n",
        "  reference_reward = 0\n",
        "  count = np.zeros(6)\n",
        "  values = np.zeros(6)\n",
        "  chosen_actions = []\n",
        "  REGRET = []\n",
        "  plt.figure()\n",
        "  for i in range(data.shape[0]):\n",
        "    reward = np.zeros(6)\n",
        "    # p = np.zeros(6)\n",
        "    for j in range(int(data.shape[1]/2)):\n",
        "      reward[j] = 2* float(data[i][j*2]) - float(data[i][j*2+1])\n",
        "      H[j] += beta*(reward[j] - reference_reward)\n",
        "      \n",
        "    pi = softmax(H) \n",
        "    \n",
        "    action = np.random.choice(6,1,p=pi)\n",
        "    # print(\"action\",action)\n",
        "    # print(\"count\",count)\n",
        "    \n",
        "    reference_reward +=  alpha*(reward[action] - reference_reward)\n",
        "    count[action] +=1\n",
        "    values[action] = reward[action]*(1/count[action]) + ((count[action]-1)/count[action])*values[action]\n",
        "    # chosen_actions.append(action)\n",
        "  \n",
        "    optimal_action = np.argmax(values)\n",
        "    # print(\"optimal_action\",optimal_action)\n",
        "    \n",
        "    regret = 0\n",
        "    for k in range(6):\n",
        "      regret += ((values[optimal_action] - values[k]) * count[k])\n",
        "      # print(regret)\n",
        "    REGRET.append(regret)\n",
        "  print(len(REGRET))   \n",
        "  plt.plot(REGRET)\n",
        "  plt.xlabel(\"trial\")\n",
        "  plt.ylabel(\"regret\")\n",
        "  plt.show()"
      ],
      "execution_count": 87,
      "outputs": []
    },
    {
      "cell_type": "code",
      "metadata": {
        "colab": {
          "base_uri": "https://localhost:8080/",
          "height": 298
        },
        "id": "c-I_evltuswm",
        "outputId": "5a0a6c90-3ee5-4f5e-b42b-3916456c3fab"
      },
      "source": [
        "reinforcement_comparison(0.1, 0.9)"
      ],
      "execution_count": 88,
      "outputs": [
        {
          "output_type": "stream",
          "name": "stdout",
          "text": [
            "498\n"
          ]
        },
        {
          "output_type": "display_data",
          "data": {
            "image/png": "[encoded data removed]",
            "text/plain": [
              "<Figure size 432x288 with 1 Axes>"
            ]
          },
          "metadata": {
            "needs_background": "light"
          }
        }
      ]
    }
  ]
}